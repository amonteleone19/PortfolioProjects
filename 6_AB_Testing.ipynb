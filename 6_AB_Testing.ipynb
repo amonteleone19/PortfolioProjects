{
 "cells": [
  {
   "cell_type": "markdown",
   "id": "bd5fae38",
   "metadata": {},
   "source": [
    "This project details the steps I used to determine the statistical significance of the results of an AB test for a digital marketing company."
   ]
  },
  {
   "cell_type": "code",
   "execution_count": 7,
   "id": "56ffbbfa",
   "metadata": {},
   "outputs": [
    {
     "data": {
      "text/html": [
       "<div>\n",
       "<style scoped>\n",
       "    .dataframe tbody tr th:only-of-type {\n",
       "        vertical-align: middle;\n",
       "    }\n",
       "\n",
       "    .dataframe tbody tr th {\n",
       "        vertical-align: top;\n",
       "    }\n",
       "\n",
       "    .dataframe thead th {\n",
       "        text-align: right;\n",
       "    }\n",
       "</style>\n",
       "<table border=\"1\" class=\"dataframe\">\n",
       "  <thead>\n",
       "    <tr style=\"text-align: right;\">\n",
       "      <th></th>\n",
       "      <th>group</th>\n",
       "      <th>action</th>\n",
       "    </tr>\n",
       "  </thead>\n",
       "  <tbody>\n",
       "    <tr>\n",
       "      <th>0</th>\n",
       "      <td>experiment</td>\n",
       "      <td>view</td>\n",
       "    </tr>\n",
       "    <tr>\n",
       "      <th>1</th>\n",
       "      <td>control</td>\n",
       "      <td>view</td>\n",
       "    </tr>\n",
       "    <tr>\n",
       "      <th>2</th>\n",
       "      <td>control</td>\n",
       "      <td>view and click</td>\n",
       "    </tr>\n",
       "    <tr>\n",
       "      <th>3</th>\n",
       "      <td>control</td>\n",
       "      <td>view and click</td>\n",
       "    </tr>\n",
       "    <tr>\n",
       "      <th>4</th>\n",
       "      <td>control</td>\n",
       "      <td>view</td>\n",
       "    </tr>\n",
       "  </tbody>\n",
       "</table>\n",
       "</div>"
      ],
      "text/plain": [
       "        group          action\n",
       "0  experiment            view\n",
       "1     control            view\n",
       "2     control  view and click\n",
       "3     control  view and click\n",
       "4     control            view"
      ]
     },
     "execution_count": 7,
     "metadata": {},
     "output_type": "execute_result"
    }
   ],
   "source": [
    "# import libraries\n",
    "import numpy as np\n",
    "import pandas as pd\n",
    "import matplotlib.pyplot as plt\n",
    "np.random.seed(42)\n",
    "# load dataset\n",
    "df=pd.read_excel(r'C:\\Users\\Anton\\Documents\\Data Analysis\\AB Test.xlsx')\n",
    "df.head()"
   ]
  },
  {
   "cell_type": "code",
   "execution_count": 10,
   "id": "76cb8532",
   "metadata": {},
   "outputs": [
    {
     "name": "stdout",
     "output_type": "stream",
     "text": [
      "<class 'pandas.core.frame.DataFrame'>\n",
      "RangeIndex: 3757 entries, 0 to 3756\n",
      "Data columns (total 2 columns):\n",
      " #   Column  Non-Null Count  Dtype \n",
      "---  ------  --------------  ----- \n",
      " 0   group   3757 non-null   object\n",
      " 1   action  3757 non-null   object\n",
      "dtypes: object(2)\n",
      "memory usage: 58.8+ KB\n"
     ]
    }
   ],
   "source": [
    "# The data has two columns: 'group' & 'action'\n",
    "# 'group' shows if the website visitor saw the original (control) or new (experiment) ad \n",
    "# 'action' shows the action the visitor took:  'view' or 'view and click'\n",
    "df.info()"
   ]
  },
  {
   "cell_type": "code",
   "execution_count": 12,
   "id": "7a1472fe",
   "metadata": {},
   "outputs": [
    {
     "data": {
      "text/plain": [
       "experiment    1881\n",
       "control       1876\n",
       "Name: group, dtype: int64"
      ]
     },
     "execution_count": 12,
     "metadata": {},
     "output_type": "execute_result"
    }
   ],
   "source": [
    "df['group'].value_counts()"
   ]
  },
  {
   "cell_type": "code",
   "execution_count": 13,
   "id": "b9ec9041",
   "metadata": {},
   "outputs": [
    {
     "data": {
      "text/plain": [
       "view              3082\n",
       "view and click     675\n",
       "Name: action, dtype: int64"
      ]
     },
     "execution_count": 13,
     "metadata": {},
     "output_type": "execute_result"
    }
   ],
   "source": [
    "df['action'].value_counts()"
   ]
  },
  {
   "cell_type": "markdown",
   "id": "a3678445",
   "metadata": {},
   "source": [
    "Hypothesis Testing steps: <br>\n",
    "1) Specify the Null Hypothesis -- Null Hypothesis is old ad is better than new ad <br>\n",
    "2) Specify the Alternative Hypothesis -- Alt Hypothesis is new ad is better than old ad<br>\n",
    "3) Set the Significance Level (a) -- Set a significance level of 95% <br>\n",
    "4) Calculate the Corresponding P-Value. <br>\n",
    "5) Drawing a Conclusion <br>"
   ]
  },
  {
   "cell_type": "code",
   "execution_count": 14,
   "id": "aa6aca10",
   "metadata": {},
   "outputs": [
    {
     "name": "stdout",
     "output_type": "stream",
     "text": [
      "CTR for Control Group =  0.19349680170575692\n"
     ]
    }
   ],
   "source": [
    "# Create dataframe with all observations from control group \n",
    "control_df = df.query('group==\"control\"')\n",
    "\n",
    "# Compute CTR for control group - # of visitors who saw old ad and \"view and click\" / total # of visitors who saw old ad\n",
    "control_ctr = control_df.query('action==\"view and click\"').index.nunique()/control_df.index.nunique()\n",
    "\n",
    "print(\"CTR for Control Group = \", control_ctr)"
   ]
  },
  {
   "cell_type": "code",
   "execution_count": 15,
   "id": "dc2a2da2",
   "metadata": {},
   "outputs": [
    {
     "name": "stdout",
     "output_type": "stream",
     "text": [
      "CTR for Experiment Group = 0.16586921850079744\n"
     ]
    }
   ],
   "source": [
    "# Get dataframe with all observations from experiment group \n",
    "exp_df = df.query('group == \"experiment\"')\n",
    "\n",
    "# Compute CTR for experiment group - # of visitors who saw new ad and \"view and click\" / total # of visitors who saw new ad\n",
    "exp_ctr = exp_df.query('action == \"view and click\"').index.nunique()/exp_df.index.nunique()\n",
    "\n",
    "# Display the CTR For the experiment group\n",
    "print(\"CTR for Experiment Group =\", exp_ctr)"
   ]
  },
  {
   "cell_type": "code",
   "execution_count": 17,
   "id": "e3539f5f",
   "metadata": {},
   "outputs": [
    {
     "name": "stdout",
     "output_type": "stream",
     "text": [
      "Difference in CTR =  -0.027627583204959477\n"
     ]
    }
   ],
   "source": [
    "# Compute the difference in the CTR \n",
    "diff_ctr = exp_ctr - control_ctr\n",
    "\n",
    "# Display the difference \n",
    "print(\"Difference in CTR = \", diff_ctr)\n",
    "# It appears the control group's CTR is higher - but can we generalize this for the whole population?"
   ]
  },
  {
   "cell_type": "markdown",
   "id": "73fd8451",
   "metadata": {},
   "source": [
    "We can use bootstrapping to determine statistical significance. We can create 10,000 bootstrapped datasets, then create of a histogram of the means of those datasets. \n"
   ]
  },
  {
   "cell_type": "code",
   "execution_count": 18,
   "id": "b5740871",
   "metadata": {},
   "outputs": [],
   "source": [
    "# Creating our bootsrapped datasets\n",
    "differences = []\n",
    "size = df.shape[0]\n",
    "for I in range(10000): #We will create 10,000 bootstrapped datasets\n",
    "    sample = df.sample(size, replace=True)\n",
    "    control_df = sample.query('group == \"control\"')\n",
    "    exp_df = sample.query('group == \"experiment\"')\n",
    "    control_ctr = control_df.query('action == \"view and click\"').index.nunique()/control_df.index.nunique()\n",
    "    exp_ctr = exp_df.query('action == \"view and click\"').index.nunique()/exp_df.index.nunique()\n",
    "    differences.append(exp_ctr - control_ctr)"
   ]
  },
  {
   "cell_type": "code",
   "execution_count": 19,
   "id": "936d8213",
   "metadata": {},
   "outputs": [
    {
     "data": {
      "text/plain": [
       "(array([  22.,  140.,  664., 1721., 2755., 2632., 1465.,  503.,   89.,\n",
       "           9.]),\n",
       " array([-0.06209659, -0.05504038, -0.04798418, -0.04092797, -0.03387176,\n",
       "        -0.02681555, -0.01975934, -0.01270314, -0.00564693,  0.00140928,\n",
       "         0.00846549]),\n",
       " <BarContainer object of 10 artists>)"
      ]
     },
     "execution_count": 19,
     "metadata": {},
     "output_type": "execute_result"
    },
    {
     "data": {
      "image/png": "[encoded data removed]",
      "text/plain": [
       "<Figure size 432x288 with 1 Axes>"
      ]
     },
     "metadata": {
      "needs_background": "light"
     },
     "output_type": "display_data"
    }
   ],
   "source": [
    "# Plot the sampling distribution \n",
    "differences = np.array(differences)\n",
    "plt.hist(differences)\n",
    "# We see that the histogram is normally distributed"
   ]
  },
  {
   "cell_type": "code",
   "execution_count": 20,
   "id": "f6d2dfab",
   "metadata": {},
   "outputs": [
    {
     "data": {
      "text/plain": [
       "<matplotlib.lines.Line2D at 0x1fafbd4d820>"
      ]
     },
     "execution_count": 20,
     "metadata": {},
     "output_type": "execute_result"
    },
    {
     "data": {
      "image/png": "[encoded data removed]",
      "text/plain": [
       "<Figure size 432x288 with 1 Axes>"
      ]
     },
     "metadata": {
      "needs_background": "light"
     },
     "output_type": "display_data"
    }
   ],
   "source": [
    "# Simulate the distribution under the null hypothesis \n",
    "null_hypothesis = np.random.normal(0,differences.std(),differences.size)\n",
    "\n",
    "\n",
    "# Plot the null distribution \n",
    "plt.hist(null_hypothesis)\n",
    "plt.axvline(diff_ctr,c='red') #Plotting the observed statistic (calculated diff in Exp vs Control CTR)\n",
    "\n",
    "# We see that the null hypothesis is larger than the statistic most of the time\n",
    "# Seems very likely that we will fail to reject the null hypothesis\n",
    "# As the null hypothesis is more than the observed statistic most of the time"
   ]
  },
  {
   "cell_type": "code",
   "execution_count": 24,
   "id": "26339098",
   "metadata": {},
   "outputs": [
    {
     "name": "stdout",
     "output_type": "stream",
     "text": [
      "P-value:  0.9986\n"
     ]
    }
   ],
   "source": [
    "# Compute the P-value \n",
    "print( \"P-value: \", (null_hypothesis > diff_ctr).mean())"
   ]
  },
  {
   "cell_type": "markdown",
   "id": "dcd6d6fd",
   "metadata": {},
   "source": [
    "Final Takeaways: <br>\n",
    "We see P values is greater than .05 - therefore we fail to reject the null hypothesis <br>\n",
    "We accepted the null hypothesis, which states that the old ad is better than the new ad. <br>\n",
    "Therefore I did not recommend moving forward with this data set."
   ]
  },
  {
   "cell_type": "code",
   "execution_count": null,
   "id": "eaea1e3f",
   "metadata": {},
   "outputs": [],
   "source": []
  }
 ],
 "metadata": {
  "kernelspec": {
   "display_name": "Python 3",
   "language": "python",
   "name": "python3"
  },
  "language_info": {
   "codemirror_mode": {
    "name": "ipython",
    "version": 3
   },
   "file_extension": ".py",
   "mimetype": "text/x-python",
   "name": "python",
   "nbconvert_exporter": "python",
   "pygments_lexer": "ipython3",
   "version": "3.8.8"
  }
 },
 "nbformat": 4,
 "nbformat_minor": 5
}
